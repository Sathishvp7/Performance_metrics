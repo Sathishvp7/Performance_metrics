{
 "cells": [
  {
   "cell_type": "markdown",
   "metadata": {
    "colab_type": "text",
    "id": "s0Ej_bXyQvnV"
   },
   "source": [
    "# Compute performance metrics for the given Y and Y_score without sklearn"
   ]
  },
  {
   "cell_type": "code",
   "execution_count": 1,
   "metadata": {
    "colab": {},
    "colab_type": "code",
    "id": "4CHb6NE7Qvnc"
   },
   "outputs": [],
   "source": [
    "import numpy as np\n",
    "import pandas as pd\n",
    "from tqdm import tqdm # To chek execution i just imported this\n",
    "# other than these two you should not import any other packages"
   ]
  },
  {
   "cell_type": "markdown",
   "metadata": {
    "colab_type": "text",
    "id": "KbsWXuDaQvnq"
   },
   "source": [
    "<pre>\n",
    "<font color='red'><b>A.</b></font> Compute performance metrics for the given data <strong>5_a.csv</strong>\n",
    "   <b>Note 1:</b> in this data you can see number of positive points >> number of negatives points\n",
    "   <b>Note 2:</b> use pandas or numpy to read the data from <b>5_a.csv</b>\n",
    "   <b>Note 3:</b> you need to derive the class labels from given score</pre> $y^{pred}= \\text{[0 if y_score < 0.5 else 1]}$\n",
    "\n",
    "<pre>\n",
    "<ol>\n",
    "<li> Compute Confusion Matrix </li>\n",
    "<li> Compute F1 Score </li>\n",
    "<li> Compute AUC Score, you need to compute different thresholds and for each threshold compute tpr,fpr and then use               numpy.trapz(tpr_array, fpr_array) <a href='https://stackoverflow.com/q/53603376/4084039'>https://stackoverflow.com/q/53603376/4084039</a>, <a href='https://stackoverflow.com/a/39678975/4084039'>https://stackoverflow.com/a/39678975/4084039</a> Note: it should be numpy.trapz(tpr_array, fpr_array) not numpy.trapz(fpr_array, tpr_array)</li>\n",
    "<li> Compute Accuracy Score </li>\n",
    "</ol>\n",
    "</pre>"
   ]
  },
  {
   "cell_type": "markdown",
   "metadata": {},
   "source": [
    "<pre>\n",
    "<font color='red'><b>Precision</b></font> is the number of True Positives divided by the number of True Positives and False Positives. Put another way, it is the number of positive predictions divided by the total number of positive class values predicted. It is also called the Positive Predictive Value (PPV).<strong>Precision can be thought of as a measure of a classifiers exactness. A low precision can also indicate a large number of False Positives.</strong>\n",
    "   \n",
    "<pre>"
   ]
  },
  {
   "cell_type": "markdown",
   "metadata": {},
   "source": [
    "<pre>\n",
    "<font color='red'><b>Recall (Sensitivity)</b></font> is the ratio of correctly predicted positive observations to the all observations in actual class - yes. The question recall answers is: Of all the passengers that truly survived, how many did we label? We have got recall of 0.631 which is good for this model as it’s above 0.5.<strong>Recall = TP/TP+FN</strong>\n",
    "   \n",
    "<pre>"
   ]
  },
  {
   "cell_type": "markdown",
   "metadata": {},
   "source": [
    "<pre>\n",
    "<font color='red'><b>F1 score </b></font> is the weighted average of Precision and Recall. Therefore, this score takes both false positives and false negatives into account. Intuitively it is not as easy to understand as accuracy, but F1 is usually more useful than accuracy, especially if you have an uneven class distribution. Accuracy works best if false positives and false negatives have similar cost. If the cost of false positives and false negatives are very different, it’s better to look at both Precision and Recall.<strong>F1 Score = 2*(Recall * Precision) / (Recall + Precision)</strong>\n",
    "   \n",
    "<pre>"
   ]
  },
  {
   "cell_type": "code",
   "execution_count": 2,
   "metadata": {
    "colab": {},
    "colab_type": "code",
    "id": "WaFLW7oBQvnt"
   },
   "outputs": [
    {
     "name": "stderr",
     "output_type": "stream",
     "text": [
      "  7%|█████▋                                                                            | 7/101 [00:00<00:01, 61.52it/s]"
     ]
    },
    {
     "name": "stdout",
     "output_type": "stream",
     "text": [
      "True Positive 10000\n",
      "True Negative 0\n",
      "False Positive 100\n",
      "False Negative 0\n",
      "F1_score - 0.9950248756218906\n",
      "Accuracy_score - 0.9900990099009901\n"
     ]
    },
    {
     "name": "stderr",
     "output_type": "stream",
     "text": [
      "100%|████████████████████████████████████████████████████████████████████████████████| 101/101 [00:02<00:00, 46.59it/s]\n"
     ]
    },
    {
     "name": "stdout",
     "output_type": "stream",
     "text": [
      "Area Under Curve - 0.4580425\n"
     ]
    },
    {
     "data": {
      "image/png": "[encoded data removed]",
      "text/plain": [
       "<Figure size 432x288 with 1 Axes>"
      ]
     },
     "metadata": {
      "needs_background": "light"
     },
     "output_type": "display_data"
    }
   ],
   "source": [
    "# write your code here\n",
    "\n",
    "# Read 5_a csv file\n",
    "df_a  = pd.read_csv('5_a.csv')\n",
    "\n",
    "df_a.head()\n",
    "\n",
    "# Step 1 Find Y_predict using probablity\n",
    "# In the Dataset we have large postive les negative\n",
    "\n",
    "df_a.loc[df_a['proba'] >= 0.5, 'y_predict'] = 1  \n",
    "df_a.loc[df_a['proba'] < 0.5, 'y_predict'] = 0\n",
    "\n",
    "df_a.head()\n",
    "\n",
    "# Step 2 Calculate Confusion matrix\n",
    "True_postive= 0\n",
    "True_negative =0\n",
    "False_postive =0\n",
    "False_negative =0\n",
    "\n",
    "\n",
    "\n",
    "for i,j in zip(df_a['y'],df_a['y_predict']):\n",
    "    if i==1.0 and j==1.0:\n",
    "        True_postive += 1\n",
    "    elif i==0.0 and j==1.0:\n",
    "        False_postive += 1\n",
    "    elif i==1.0 and j==0.0:\n",
    "        False_negative += 1\n",
    "    elif i==0.0 and j==0.0:\n",
    "        True_negative += 1\n",
    "\n",
    "print('True Positive ' + str(True_postive))\n",
    "print('True Negative ' + str(True_negative))\n",
    "print('False Positive ' + str(False_postive))\n",
    "print('False Negative ' + str(False_negative))\n",
    "\n",
    "\n",
    "# Step 3  - F1 Score\n",
    "# F1 score = 2*((precision*recall)/(precision+recall)).\n",
    "# precision = TP/TP+FN\n",
    "# Recall = TP / Tp+FP\n",
    "\n",
    "precision  = True_postive/ (True_postive+False_negative)\n",
    "Recall     = True_postive/ (True_postive+False_postive)\n",
    "F1_score   = 2*((precision * Recall) / (precision+ Recall))\n",
    "print('F1_score - ' +str(F1_score))\n",
    "\n",
    "# Step 4 Accuracy\n",
    "Accuracy = (True_postive + True_negative) / (True_postive+True_negative+False_postive+False_negative)\n",
    "print('Accuracy_score - ' +str(Accuracy))\n",
    "\n",
    "# Step5 AUC Curve\n",
    "\n",
    "df_a = df_a.sort_values(by=['proba'],axis=0,ascending=False,ignore_index= True)\n",
    "prob_value_df = df_a['proba']\n",
    "list_number =  list(range(0,len(prob_value_df),100))\n",
    "prob_value_df  = prob_value_df[list_number]\n",
    "\n",
    "df_a.head()\n",
    "\n",
    "prob_value_df\n",
    "\n",
    "True_positive_rate = []\n",
    "False_positive_rate =[]\n",
    "for prob_i in tqdm(prob_value_df):\n",
    "    \n",
    "    #convert = lambda x : 1.0 if x >= prob_i else 0.0\n",
    "    df_a.loc[df_a['proba'] >= prob_i, 'y_'+str(prob_i)] = 1  \n",
    "    df_a.loc[df_a['proba'] < prob_i, 'y_'+str(prob_i)] = 0\n",
    "    True_postive= 0\n",
    "    True_negative =0\n",
    "    False_postive =0\n",
    "    False_negative =0\n",
    "    for i,j in zip(df_a['y'],df_a['y_'+str(prob_i)]):\n",
    "        if i==1.0 and j==1.0:\n",
    "            True_postive += 1\n",
    "        elif i==0.0 and j==1.0:\n",
    "            False_postive += 1\n",
    "        elif i==1.0 and j==0.0:\n",
    "            False_negative += 1\n",
    "        elif i==0.0 and j==0.0:\n",
    "            True_negative += 1\n",
    "    TP_rate = ((True_postive) /(True_postive+False_negative))\n",
    "    FP_rate = ((False_postive) /(True_negative+False_postive))\n",
    "    True_positive_rate.append(TP_rate)\n",
    "    False_positive_rate.append(FP_rate)\n",
    "\n",
    "        \n",
    "\n",
    "import matplotlib.pyplot as plt\n",
    "plt.plot(False_positive_rate,True_positive_rate)\n",
    "\n",
    "True_positive_rate  = np.array(True_positive_rate)\n",
    "False_positive_rate = np.array(False_positive_rate)\n",
    "\n",
    "pAUC = np.trapz(True_positive_rate, False_positive_rate)\n",
    "\n",
    "print('Area Under Curve - '+str(pAUC))\n",
    "#Note  - 0 - Model Terrible\n",
    "#        1 - Good Model"
   ]
  },
  {
   "cell_type": "markdown",
   "metadata": {
    "colab_type": "text",
    "id": "V5KZem1BQvn2"
   },
   "source": [
    "<pre>\n",
    "<font color='red'><b>B.</b></font> Compute performance metrics for the given data <strong>5_b.csv</strong>\n",
    "   <b>Note 1:</b> in this data you can see number of positive points << number of negatives points\n",
    "   <b>Note 2:</b> use pandas or numpy to read the data from <b>5_b.csv</b>\n",
    "   <b>Note 3:</b> you need to derive the class labels from given score</pre> $y^{pred}= \\text{[0 if y_score < 0.5 else 1]}$\n",
    "\n",
    "<pre>\n",
    "<ol>\n",
    "<li> Compute Confusion Matrix </li>\n",
    "<li> Compute F1 Score </li>\n",
    "<li> Compute AUC Score, you need to compute different thresholds and for each threshold compute tpr,fpr and then use               numpy.trapz(tpr_array, fpr_array) <a href='https://stackoverflow.com/q/53603376/4084039'>https://stackoverflow.com/q/53603376/4084039</a>, <a href='https://stackoverflow.com/a/39678975/4084039'>https://stackoverflow.com/a/39678975/4084039</a></li>\n",
    "<li> Compute Accuracy Score </li>\n",
    "</ol>\n",
    "</pre>"
   ]
  },
  {
   "cell_type": "code",
   "execution_count": 3,
   "metadata": {
    "colab": {},
    "colab_type": "code",
    "id": "U2sKlq0YQvn5"
   },
   "outputs": [
    {
     "name": "stdout",
     "output_type": "stream",
     "text": [
      "True Positive 55\n",
      "True Negative 9761\n",
      "False Positive 239\n",
      "False Negative 45\n"
     ]
    },
    {
     "name": "stderr",
     "output_type": "stream",
     "text": [
      "  7%|█████▋                                                                            | 7/101 [00:00<00:01, 65.23it/s]"
     ]
    },
    {
     "name": "stdout",
     "output_type": "stream",
     "text": [
      "F1_score - 0.2791878172588833\n",
      "Accuracy_score - 0.9718811881188119\n"
     ]
    },
    {
     "name": "stderr",
     "output_type": "stream",
     "text": [
      "100%|████████████████████████████████████████████████████████████████████████████████| 101/101 [00:02<00:00, 45.27it/s]\n"
     ]
    },
    {
     "name": "stdout",
     "output_type": "stream",
     "text": [
      "Area Under Curve - 0.9263505000000001\n"
     ]
    },
    {
     "data": {
      "image/png": "[encoded data removed]",
      "text/plain": [
       "<Figure size 432x288 with 1 Axes>"
      ]
     },
     "metadata": {
      "needs_background": "light"
     },
     "output_type": "display_data"
    }
   ],
   "source": [
    "# write your code\n",
    "\n",
    "# Import Required Package\n",
    "import numpy as np\n",
    "import pandas as pd\n",
    "from tqdm import tqdm\n",
    "\n",
    "# Read 5_a csv file\n",
    "df_a  = pd.read_csv('5_b.csv')\n",
    "\n",
    "df_a.head()\n",
    "\n",
    "# Step 1 Find Y_predict using probablity\n",
    "# In the Dataset we have large postive les negative\n",
    "\n",
    "df_a.loc[df_a['proba'] >= 0.5, 'y_predict'] = 1  \n",
    "df_a.loc[df_a['proba'] < 0.5, 'y_predict'] = 0\n",
    "\n",
    "df_a.head()\n",
    "\n",
    "# Step 2 Calculate Confusion matrix\n",
    "True_postive= 0\n",
    "True_negative =0\n",
    "False_postive =0\n",
    "False_negative =0\n",
    "\n",
    "\n",
    "\n",
    "for i,j in zip(df_a['y'],df_a['y_predict']):\n",
    "    if i==1.0 and j==1.0:\n",
    "        True_postive += 1\n",
    "    elif i==0.0 and j==1.0:\n",
    "        False_postive += 1\n",
    "    elif i==1.0 and j==0.0:\n",
    "        False_negative += 1\n",
    "    elif i==0.0 and j==0.0:\n",
    "        True_negative += 1\n",
    "\n",
    "print('True Positive ' + str(True_postive))\n",
    "print('True Negative ' + str(True_negative))\n",
    "print('False Positive ' + str(False_postive))\n",
    "print('False Negative ' + str(False_negative))\n",
    "\n",
    "\n",
    "from sklearn.metrics import confusion_matrix\n",
    "confusion_matrix(df_a['y'],df_a['y_predict'])\n",
    "\n",
    "\n",
    "\n",
    "# Step 3  - F1 Score\n",
    "# F1 score = 2*((precision*recall)/(precision+recall)).\n",
    "# precision = TP/TP+FN\n",
    "# Recall = TP / Tp+FP\n",
    "\n",
    "precision  = True_postive/ (True_postive+False_negative)\n",
    "Recall     = True_postive/ (True_postive+False_postive)\n",
    "F1_score   = 2*((precision * Recall) / (precision+ Recall))\n",
    "print('F1_score - ' +str(F1_score))\n",
    "\n",
    "# Step 4 Accuracy\n",
    "Accuracy = (True_postive + True_negative) / (True_postive+True_negative+False_postive+False_negative)\n",
    "print('Accuracy_score - ' +str(Accuracy))\n",
    "\n",
    "# Step5 AUC Curve\n",
    "\n",
    "df_a = df_a.sort_values(by=['proba'],axis=0,ascending=False,ignore_index= True)\n",
    "prob_value_df = df_a['proba']\n",
    "list_number =  list(range(0,len(prob_value_df),100))\n",
    "prob_value_df  = prob_value_df[list_number]\n",
    "\n",
    "df_a.head()\n",
    "\n",
    "prob_value_df\n",
    "\n",
    "True_positive_rate = []\n",
    "False_positive_rate =[]\n",
    "for prob_i in tqdm(prob_value_df):\n",
    "    \n",
    "    #convert = lambda x : 1.0 if x >= prob_i else 0.0\n",
    "    df_a.loc[df_a['proba'] >= prob_i, 'y_'+str(prob_i)] = 1  \n",
    "    df_a.loc[df_a['proba'] < prob_i, 'y_'+str(prob_i)] = 0\n",
    "    True_postive= 0\n",
    "    True_negative =0\n",
    "    False_postive =0\n",
    "    False_negative =0\n",
    "    for i,j in zip(df_a['y'],df_a['y_'+str(prob_i)]):\n",
    "        if i==1.0 and j==1.0:\n",
    "            True_postive += 1\n",
    "        elif i==0.0 and j==1.0:\n",
    "            False_postive += 1\n",
    "        elif i==1.0 and j==0.0:\n",
    "            False_negative += 1\n",
    "        elif i==0.0 and j==0.0:\n",
    "            True_negative += 1\n",
    "    TP_rate = ((True_postive) /(True_postive+False_negative))\n",
    "    FP_rate = ((False_postive) /(True_negative+False_postive))\n",
    "    True_positive_rate.append(TP_rate)\n",
    "    False_positive_rate.append(FP_rate)\n",
    "\n",
    "        \n",
    "\n",
    "import matplotlib.pyplot as plt\n",
    "plt.plot(False_positive_rate,True_positive_rate)\n",
    "\n",
    "True_positive_rate  = np.array(True_positive_rate)\n",
    "False_positive_rate = np.array(False_positive_rate)\n",
    "\n",
    "pAUC = np.trapz(True_positive_rate, False_positive_rate)\n",
    "\n",
    "print('Area Under Curve - '+str(pAUC))\n",
    "#Note  - 0 - Model Terrible\n",
    "#        1 - Good Model"
   ]
  },
  {
   "cell_type": "markdown",
   "metadata": {
    "colab_type": "text",
    "id": "GiPGonTzQvoB"
   },
   "source": [
    "<font color='red'><b>C.</b></font> Compute the best threshold (similarly to ROC curve computation) of probability which gives lowest values of metric <b>A</b> for the given data <strong>5_c.csv</strong>\n",
    "<br>\n",
    "\n",
    "you will be predicting label of a data points like this: $y^{pred}= \\text{[0 if y_score < threshold  else 1]}$\n",
    "\n",
    "$ A = 500 \\times \\text{number of false negative} + 100 \\times \\text{numebr of false positive}$\n",
    "\n",
    "<pre>\n",
    "   <b>Note 1:</b> in this data you can see number of negative points > number of positive points\n",
    "   <b>Note 2:</b> use pandas or numpy to read the data from <b>5_c.csv</b>\n",
    "</pre>"
   ]
  },
  {
   "cell_type": "code",
   "execution_count": 4,
   "metadata": {
    "colab": {},
    "colab_type": "code",
    "id": "x5HIJzq1QvoE"
   },
   "outputs": [
    {
     "name": "stderr",
     "output_type": "stream",
     "text": [
      "100%|█████████████████████████████████████████████████████████████████████████████████| 29/29 [00:00<00:00, 104.78it/s]"
     ]
    },
    {
     "name": "stdout",
     "output_type": "stream",
     "text": [
      "Thershold which has low False postive and False Negative is : 0.2440750461977881\n"
     ]
    },
    {
     "name": "stderr",
     "output_type": "stream",
     "text": [
      "\n"
     ]
    }
   ],
   "source": [
    "# write your code\n",
    "\n",
    "# Read 5_ac csv file\n",
    "df_a  = pd.read_csv('5_c.csv')\n",
    "df_a.head(5)\n",
    "\n",
    "df_a = df_a.sort_values(by=['prob'],axis=0,ascending=False,ignore_index= True)\n",
    "prob_value_df = df_a['prob']\n",
    "list_number =  list(range(0,len(prob_value_df),100))\n",
    "prob_value_df  = prob_value_df[list_number]\n",
    "    \n",
    "All_thershold = {}\n",
    "for prob_i in tqdm(prob_value_df):\n",
    "    \n",
    "    #convert = lambda x : 1.0 if x >= prob_i else 0.0\n",
    "    df_a.loc[df_a['prob'] >= prob_i, 'y_'+str(prob_i)] = 1  \n",
    "    df_a.loc[df_a['prob'] < prob_i, 'y_'+str(prob_i)] = 0\n",
    "    True_postive= 0\n",
    "    True_negative =0\n",
    "    False_postive =0\n",
    "    False_negative =0\n",
    "    for i,j in zip(df_a['y'],df_a['y_'+str(prob_i)]):\n",
    "        if i==1.0 and j==1.0:\n",
    "            True_postive += 1\n",
    "        elif i==0.0 and j==1.0:\n",
    "            False_postive += 1\n",
    "        elif i==1.0 and j==0.0:\n",
    "            False_negative += 1\n",
    "        elif i==0.0 and j==0.0:\n",
    "            True_negative += 1\n",
    "    FP_rate = False_postive\n",
    "    FN_rate = False_negative\n",
    "    All_thershold[prob_i]  = (500*FN_rate) + (100*FP_rate)\n",
    "\n",
    "\n",
    "\n",
    "sorted_thershold = {k: v for k, v in sorted(All_thershold.items(), key=lambda item: item[1],reverse=False)}\n",
    "\n",
    "print('Thershold which has low False postive and False Negative is : ' +str(list(sorted_thershold)[0]))\n"
   ]
  },
  {
   "cell_type": "markdown",
   "metadata": {
    "colab_type": "text",
    "id": "sD4CcgjXQvoL"
   },
   "source": [
    "<pre>\n",
    "<font color='red'><b>D.</b></font> Compute performance metrics(for regression) for the given data <strong>5_d.csv</strong>\n",
    "    <b>Note 2:</b> use pandas or numpy to read the data from <b>5_d.csv</b>\n",
    "    <b>Note 1:</b> <b>5_d.csv</b> will having two columns Y and predicted_Y both are real valued features\n",
    "<ol>\n",
    "<li> Compute Mean Square Error </li>\n",
    "<li> Compute MAPE: https://www.youtube.com/watch?v=ly6ztgIkUxk</li>\n",
    "<li> Compute R^2 error: https://en.wikipedia.org/wiki/Coefficient_of_determination#Definitions </li>\n",
    "</ol>\n",
    "</pre>"
   ]
  },
  {
   "cell_type": "code",
   "execution_count": 7,
   "metadata": {},
   "outputs": [
    {
     "name": "stdout",
     "output_type": "stream",
     "text": [
      "Mean Square Error is 177.16569974554707\n",
      "Mean_Absolute_percentage_error: 12.91202994009687\n",
      "R2_Score is 0.9563582786990964\n"
     ]
    }
   ],
   "source": [
    "df_d  = pd.read_csv('5_d.csv')\n",
    "df_d.head(5)\n",
    "\n",
    "# SubTask 1 FInd Compute Mean Square Error\n",
    "MSE = 0\n",
    "total_data = len(df_d['y'])\n",
    "for y,predict in zip(df_d['y'],df_d['pred']):\n",
    "    MSE= (MSE + (y-predict)**2)\n",
    "\n",
    "MSE = MSE/total_data\n",
    "print('Mean Square Error is '+ str(MSE))\n",
    "\n",
    "# SubTask 2 Find Mean Square Absolute error \n",
    "def mean_absolute_percentage_error(y_true, y_pred): \n",
    "    test_zero = (y_true == 0).sum(axis=0)\n",
    "    MAPE_numerator = 0\n",
    "    MAPE_Demonitator=sum(y_true)\n",
    "    \n",
    "    if test_zero != 0:\n",
    "        for actual, predict in zip(y_true,y_pred):\n",
    "            MAPE_numerator =MAPE_numerator + (np.abs(predict-actual))\n",
    "        MAPE  = (MAPE_numerator/MAPE_Demonitator) *100\n",
    "        return MAPE\n",
    "    else:\n",
    "        y_true, y_pred = np.array(y_true), np.array(y_pred)\n",
    "        return np.mean(np.abs((y_true - y_pred) / y_true)) * 100\n",
    "\n",
    "print('Mean_Absolute_percentage_error: '+ str(mean_absolute_percentage_error(df_d['y'],df_d['pred'])))\n",
    "\n",
    "#  Subtask 3 - R2 score\n",
    "\n",
    "# Find mean of Actual\n",
    "Actual_mean = np.mean(df_d['y']) # Ans 66.56\n",
    "\n",
    "total_Sum_of_error  =  0\n",
    "n_actual = len(df_d['y'])\n",
    "for actual in df_d['y']:\n",
    "    total_Sum_of_error = total_Sum_of_error+((actual-Actual_mean)**2)\n",
    "\n",
    "total_Sum_of_error= total_Sum_of_error/n_actual\n",
    "\n",
    "# Total Sum of residual\n",
    "Actual_mean = np.mean(df_d['pred'])\n",
    "total_Sum_of_res_error  =  0\n",
    "n_actual = len(df_d['pred'])\n",
    "for actual,predict in zip(df_d['y'],df_d['pred']):\n",
    "    total_Sum_of_res_error = total_Sum_of_res_error+((actual-predict)**2)\n",
    "\n",
    "total_Sum_of_res_error= total_Sum_of_res_error/n_actual\n",
    "\n",
    "r2_score = 1-(total_Sum_of_res_error/total_Sum_of_error)\n",
    "\n",
    "print('R2_Score is '+str(r2_score))"
   ]
  },
  {
   "cell_type": "code",
   "execution_count": null,
   "metadata": {},
   "outputs": [],
   "source": []
  },
  {
   "cell_type": "code",
   "execution_count": null,
   "metadata": {},
   "outputs": [],
   "source": []
  },
  {
   "cell_type": "code",
   "execution_count": null,
   "metadata": {},
   "outputs": [],
   "source": []
  },
  {
   "cell_type": "code",
   "execution_count": null,
   "metadata": {},
   "outputs": [],
   "source": []
  }
 ],
 "metadata": {
  "colab": {
   "collapsed_sections": [],
   "name": "5_Performance_metrics_Instructions.ipynb",
   "provenance": []
  },
  "kernelspec": {
   "display_name": "Python 3",
   "language": "python",
   "name": "python3"
  },
  "language_info": {
   "codemirror_mode": {
    "name": "ipython",
    "version": 3
   },
   "file_extension": ".py",
   "mimetype": "text/x-python",
   "name": "python",
   "nbconvert_exporter": "python",
   "pygments_lexer": "ipython3",
   "version": "3.9.2"
  }
 },
 "nbformat": 4,
 "nbformat_minor": 1
}
